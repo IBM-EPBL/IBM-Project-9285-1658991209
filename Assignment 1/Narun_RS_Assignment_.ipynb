{
  "cells": [
    {
      "cell_type": "code",
      "execution_count": null,
      "metadata": {
        "id": "xrWSCLXU_L5g"
      },
      "outputs": [],
      "source": [
        "# import the necessary libraries\n",
        "import numpy as np\n",
        "import pandas as pd"
      ],
      "id": "xrWSCLXU_L5g"
    },
    {
      "cell_type": "markdown",
      "metadata": {
        "id": "7TbchG1I_L5t"
      },
      "source": [
        "# 1.Split string"
      ],
      "id": "7TbchG1I_L5t"
    },
    {
      "cell_type": "code",
      "execution_count": 6,
      "metadata": {
        "colab": {
          "base_uri": "https://localhost:8080/"
        },
        "id": "HO0LFPwY_L5z",
        "outputId": "575bca31-48e0-471f-a25a-68d8f27e5c10"
      },
      "outputs": [
        {
          "output_type": "execute_result",
          "data": {
            "text/plain": [
              "['Hey', 'I', 'am', 'Narun']"
            ]
          },
          "metadata": {},
          "execution_count": 6
        }
      ],
      "source": [
        "name= \"Hey I am Narun\"\n",
        "name.split()"
      ],
      "id": "HO0LFPwY_L5z"
    },
    {
      "cell_type": "markdown",
      "metadata": {
        "id": "DsUWX4BT_L54"
      },
      "source": [
        "# 2.Formatted string"
      ],
      "id": "DsUWX4BT_L54"
    },
    {
      "cell_type": "code",
      "execution_count": 5,
      "metadata": {
        "colab": {
          "base_uri": "https://localhost:8080/"
        },
        "id": "-40Kox-S_L56",
        "outputId": "a693be49-97a5-4639-9ce9-239fe4058777"
      },
      "outputs": [
        {
          "output_type": "stream",
          "name": "stdout",
          "text": [
            "Hi I am Narun from CSE\n"
          ]
        }
      ],
      "source": [
        "#We can format string by Built in function .format method.\n",
        "\n",
        "name=\"Narun\"\n",
        "dept=\"CSE\"\n",
        "print(\"Hi I am {name} from {dept}\".format(name=name,dept=dept))"
      ],
      "id": "-40Kox-S_L56"
    },
    {
      "cell_type": "markdown",
      "metadata": {
        "id": "wFFUjE-Q_L59"
      },
      "source": [
        "# 3.Extract hello from nested dictionary"
      ],
      "id": "wFFUjE-Q_L59"
    },
    {
      "cell_type": "code",
      "execution_count": null,
      "metadata": {
        "id": "upbQY5nj_L5_",
        "outputId": "86ac249e-d427-4b69-ef45-4a8ff1e4d424"
      },
      "outputs": [
        {
          "name": "stdout",
          "output_type": "stream",
          "text": [
            "hello\n"
          ]
        }
      ],
      "source": [
        "nested_dictionary = {\"k1\":[1,2,3,\n",
        "                   {\"tricky\":[\"oh\",\"man\",\"inception\",\n",
        "                              {\"target\":[1,2,3,\"hello\"]\n",
        "                              }]}]\n",
        "            }\n",
        "\n",
        "print(nested_dictionary[\"k1\"][3][\"tricky\"][3][\"target\"][3])"
      ],
      "id": "upbQY5nj_L5_"
    },
    {
      "cell_type": "markdown",
      "metadata": {
        "id": "-G1Gez_U_L6C"
      },
      "source": [
        "# Numpy"
      ],
      "id": "-G1Gez_U_L6C"
    },
    {
      "cell_type": "markdown",
      "metadata": {
        "id": "qXVV3rRU_L6E"
      },
      "source": [
        "## 4.1 Create an array of zeros"
      ],
      "id": "qXVV3rRU_L6E"
    },
    {
      "cell_type": "code",
      "execution_count": null,
      "metadata": {
        "id": "9oXo9eru_L6H",
        "outputId": "dcbf7d8e-37f5-4fa5-c70a-29dd67aeff57"
      },
      "outputs": [
        {
          "data": {
            "text/plain": [
              "array([0., 0., 0., 0., 0., 0., 0., 0., 0., 0., 0., 0.])"
            ]
          },
          "execution_count": 5,
          "metadata": {},
          "output_type": "execute_result"
        }
      ],
      "source": [
        "numpy_12 = np.zeros(12)\n",
        "numpy_12"
      ],
      "id": "9oXo9eru_L6H"
    },
    {
      "cell_type": "markdown",
      "metadata": {
        "id": "WgxR4tRs_L6J"
      },
      "source": [
        "## 5.Numpy array of all the even integers from 10 to 60"
      ],
      "id": "WgxR4tRs_L6J"
    },
    {
      "cell_type": "code",
      "execution_count": null,
      "metadata": {
        "id": "39PSCo8X_L6L",
        "outputId": "63955df4-6db0-4664-924f-2aa553caa5d9"
      },
      "outputs": [
        {
          "data": {
            "text/plain": [
              "array([10, 12, 14, 16, 18, 20, 22, 24, 26, 28, 30, 32, 34, 36, 38, 40, 42,\n",
              "       44, 46, 48, 50, 52, 54, 56, 58, 60])"
            ]
          },
          "execution_count": 6,
          "metadata": {},
          "output_type": "execute_result"
        }
      ],
      "source": [
        "np_even = np.arange(10,61,2)\n",
        "np_even"
      ],
      "id": "39PSCo8X_L6L"
    },
    {
      "cell_type": "markdown",
      "metadata": {
        "id": "oGkcnV3k_L6N"
      },
      "source": [
        "## 6. Create a 3x3 matrix"
      ],
      "id": "oGkcnV3k_L6N"
    },
    {
      "cell_type": "code",
      "execution_count": null,
      "metadata": {
        "id": "_OX9K1nH_L6O",
        "outputId": "ac0bd84c-db4b-44ea-802c-3aedb5e2c14c"
      },
      "outputs": [
        {
          "data": {
            "text/plain": [
              "array([[0, 1, 2],\n",
              "       [3, 4, 5],\n",
              "       [6, 7, 8]])"
            ]
          },
          "execution_count": 7,
          "metadata": {},
          "output_type": "execute_result"
        }
      ],
      "source": [
        "np_3d = np.arange(0,9).reshape(3,3)\n",
        "np_3d"
      ],
      "id": "_OX9K1nH_L6O"
    },
    {
      "cell_type": "markdown",
      "metadata": {
        "id": "xzrt6lmf_L6Q"
      },
      "source": [
        "## 7.Concatenate two array"
      ],
      "id": "xzrt6lmf_L6Q"
    },
    {
      "cell_type": "code",
      "execution_count": null,
      "metadata": {
        "id": "S9X2_Hyg_L6S",
        "outputId": "5b912c7d-a299-4e65-b550-b0f0e08ec60a"
      },
      "outputs": [
        {
          "data": {
            "text/plain": [
              "array([1, 2, 3, 4, 5, 6])"
            ]
          },
          "execution_count": 8,
          "metadata": {},
          "output_type": "execute_result"
        }
      ],
      "source": [
        "num1 = np.array([1,2,3])\n",
        "num2 = np.array([4,5,6])\n",
        "concatenate = np.concatenate((num1, num2),axis=None)\n",
        "concatenate"
      ],
      "id": "S9X2_Hyg_L6S"
    },
    {
      "cell_type": "markdown",
      "metadata": {
        "id": "MMcgMFIN_L6T"
      },
      "source": [
        "## 8.Create a dataframe with 3 rows and 2 columns"
      ],
      "id": "MMcgMFIN_L6T"
    },
    {
      "cell_type": "code",
      "execution_count": null,
      "metadata": {
        "id": "FMaaIBaC_L6W",
        "outputId": "38cd6316-66fb-493d-807b-47590d3111a6"
      },
      "outputs": [
        {
          "data": {
            "text/html": [
              "<div>\n",
              "<style scoped>\n",
              "    .dataframe tbody tr th:only-of-type {\n",
              "        vertical-align: middle;\n",
              "    }\n",
              "\n",
              "    .dataframe tbody tr th {\n",
              "        vertical-align: top;\n",
              "    }\n",
              "\n",
              "    .dataframe thead th {\n",
              "        text-align: right;\n",
              "    }\n",
              "</style>\n",
              "<table border=\"1\" class=\"dataframe\">\n",
              "  <thead>\n",
              "    <tr style=\"text-align: right;\">\n",
              "      <th></th>\n",
              "      <th>row1</th>\n",
              "      <th>row2</th>\n",
              "    </tr>\n",
              "  </thead>\n",
              "  <tbody>\n",
              "    <tr>\n",
              "      <th>0</th>\n",
              "      <td>9</td>\n",
              "      <td>2</td>\n",
              "    </tr>\n",
              "    <tr>\n",
              "      <th>1</th>\n",
              "      <td>7</td>\n",
              "      <td>9</td>\n",
              "    </tr>\n",
              "    <tr>\n",
              "      <th>2</th>\n",
              "      <td>3</td>\n",
              "      <td>8</td>\n",
              "    </tr>\n",
              "  </tbody>\n",
              "</table>\n",
              "</div>"
            ],
            "text/plain": [
              "   row1  row2\n",
              "0     9     2\n",
              "1     7     9\n",
              "2     3     8"
            ]
          },
          "execution_count": 9,
          "metadata": {},
          "output_type": "execute_result"
        }
      ],
      "source": [
        "rand_num = np.random.randint(10,size=(3,2))\n",
        "df = pd.DataFrame(rand_num,columns=[\"row1\",\"row2\"])\n",
        "df"
      ],
      "id": "FMaaIBaC_L6W"
    },
    {
      "cell_type": "code",
      "execution_count": null,
      "metadata": {
        "id": "hoVM9XUO_L6Y",
        "outputId": "2b889cff-b2cb-4dec-f737-bef76c98cfc1"
      },
      "outputs": [
        {
          "data": {
            "text/html": [
              "<div>\n",
              "<style scoped>\n",
              "    .dataframe tbody tr th:only-of-type {\n",
              "        vertical-align: middle;\n",
              "    }\n",
              "\n",
              "    .dataframe tbody tr th {\n",
              "        vertical-align: top;\n",
              "    }\n",
              "\n",
              "    .dataframe thead th {\n",
              "        text-align: right;\n",
              "    }\n",
              "</style>\n",
              "<table border=\"1\" class=\"dataframe\">\n",
              "  <thead>\n",
              "    <tr style=\"text-align: right;\">\n",
              "      <th></th>\n",
              "      <th>col_1</th>\n",
              "      <th>col_2</th>\n",
              "    </tr>\n",
              "  </thead>\n",
              "  <tbody>\n",
              "    <tr>\n",
              "      <th>0</th>\n",
              "      <td>1</td>\n",
              "      <td>2</td>\n",
              "    </tr>\n",
              "    <tr>\n",
              "      <th>1</th>\n",
              "      <td>2</td>\n",
              "      <td>5</td>\n",
              "    </tr>\n",
              "    <tr>\n",
              "      <th>2</th>\n",
              "      <td>3</td>\n",
              "      <td>6</td>\n",
              "    </tr>\n",
              "  </tbody>\n",
              "</table>\n",
              "</div>"
            ],
            "text/plain": [
              "   col_1  col_2\n",
              "0      1      2\n",
              "1      2      5\n",
              "2      3      6"
            ]
          },
          "execution_count": 10,
          "metadata": {},
          "output_type": "execute_result"
        }
      ],
      "source": [
        "pd_dict = {\n",
        "    \"col_1\":[1,2,3],\n",
        "    \"col_2\":[2,5,6]\n",
        "          }\n",
        "# Create dataframe by dictionary\n",
        "df = pd.DataFrame(pd_dict)\n",
        "df"
      ],
      "id": "hoVM9XUO_L6Y"
    },
    {
      "cell_type": "code",
      "execution_count": null,
      "metadata": {
        "id": "D4YWBnt8_L6Z",
        "outputId": "697a2950-2161-4d91-889d-4a597334162d"
      },
      "outputs": [
        {
          "data": {
            "text/html": [
              "<div>\n",
              "<style scoped>\n",
              "    .dataframe tbody tr th:only-of-type {\n",
              "        vertical-align: middle;\n",
              "    }\n",
              "\n",
              "    .dataframe tbody tr th {\n",
              "        vertical-align: top;\n",
              "    }\n",
              "\n",
              "    .dataframe thead th {\n",
              "        text-align: right;\n",
              "    }\n",
              "</style>\n",
              "<table border=\"1\" class=\"dataframe\">\n",
              "  <thead>\n",
              "    <tr style=\"text-align: right;\">\n",
              "      <th></th>\n",
              "      <th>Name</th>\n",
              "      <th>Age</th>\n",
              "    </tr>\n",
              "  </thead>\n",
              "  <tbody>\n",
              "    <tr>\n",
              "      <th>0</th>\n",
              "      <td>Vikram</td>\n",
              "      <td>20</td>\n",
              "    </tr>\n",
              "    <tr>\n",
              "      <th>1</th>\n",
              "      <td>Vijay</td>\n",
              "      <td>20</td>\n",
              "    </tr>\n",
              "    <tr>\n",
              "      <th>2</th>\n",
              "      <td>Surya</td>\n",
              "      <td>20</td>\n",
              "    </tr>\n",
              "    <tr>\n",
              "      <th>3</th>\n",
              "      <td>Rolex</td>\n",
              "      <td>19</td>\n",
              "    </tr>\n",
              "  </tbody>\n",
              "</table>\n",
              "</div>"
            ],
            "text/plain": [
              "     Name  Age\n",
              "0  Vikram   20\n",
              "1   Vijay   20\n",
              "2   Surya   20\n",
              "3   Rolex   19"
            ]
          },
          "execution_count": 11,
          "metadata": {},
          "output_type": "execute_result"
        }
      ],
      "source": [
        "# Add dataframe by list \n",
        "name_list = [\"Vikram\",20],[\"Vijay\",20],[\"Surya\",20],[\"Rolex\",19]\n",
        "df = pd.DataFrame(name_list,columns=[\"Name\",\"Age\"])\n",
        "df"
      ],
      "id": "D4YWBnt8_L6Z"
    },
    {
      "cell_type": "markdown",
      "metadata": {
        "id": "8vDvFfRX_L6b"
      },
      "source": [
        "## 9.Generate series of date from 1st jan 2023 - 10 th feb 2023"
      ],
      "id": "8vDvFfRX_L6b"
    },
    {
      "cell_type": "code",
      "execution_count": null,
      "metadata": {
        "id": "_UvL1-Vy_L6c"
      },
      "outputs": [],
      "source": [
        "# dataframe Generator \n",
        "df = pd.DataFrame()\n",
        "\n",
        "df[\"time\"] = pd.date_range(start =\"1/1/2023\",end =\"2/10/2023\",freq =\"24H\")\n",
        "\n",
        "df[\"year\"] =df[\"time\"].dt.year\n",
        "df[\"month\"] = df[\"time\"].dt.month\n",
        "df[\"day\"] = df[\"time\"].dt.day"
      ],
      "id": "_UvL1-Vy_L6c"
    },
    {
      "cell_type": "code",
      "execution_count": null,
      "metadata": {
        "id": "agfwCz_0_L6d",
        "outputId": "49bb724c-fd8f-4140-a6aa-6097fe96eae9"
      },
      "outputs": [
        {
          "data": {
            "text/html": [
              "<div>\n",
              "<style scoped>\n",
              "    .dataframe tbody tr th:only-of-type {\n",
              "        vertical-align: middle;\n",
              "    }\n",
              "\n",
              "    .dataframe tbody tr th {\n",
              "        vertical-align: top;\n",
              "    }\n",
              "\n",
              "    .dataframe thead th {\n",
              "        text-align: right;\n",
              "    }\n",
              "</style>\n",
              "<table border=\"1\" class=\"dataframe\">\n",
              "  <thead>\n",
              "    <tr style=\"text-align: right;\">\n",
              "      <th></th>\n",
              "      <th>time</th>\n",
              "      <th>year</th>\n",
              "      <th>month</th>\n",
              "      <th>day</th>\n",
              "    </tr>\n",
              "  </thead>\n",
              "  <tbody>\n",
              "    <tr>\n",
              "      <th>0</th>\n",
              "      <td>2023-01-01</td>\n",
              "      <td>2023</td>\n",
              "      <td>1</td>\n",
              "      <td>1</td>\n",
              "    </tr>\n",
              "    <tr>\n",
              "      <th>1</th>\n",
              "      <td>2023-01-02</td>\n",
              "      <td>2023</td>\n",
              "      <td>1</td>\n",
              "      <td>2</td>\n",
              "    </tr>\n",
              "    <tr>\n",
              "      <th>2</th>\n",
              "      <td>2023-01-03</td>\n",
              "      <td>2023</td>\n",
              "      <td>1</td>\n",
              "      <td>3</td>\n",
              "    </tr>\n",
              "    <tr>\n",
              "      <th>3</th>\n",
              "      <td>2023-01-04</td>\n",
              "      <td>2023</td>\n",
              "      <td>1</td>\n",
              "      <td>4</td>\n",
              "    </tr>\n",
              "    <tr>\n",
              "      <th>4</th>\n",
              "      <td>2023-01-05</td>\n",
              "      <td>2023</td>\n",
              "      <td>1</td>\n",
              "      <td>5</td>\n",
              "    </tr>\n",
              "  </tbody>\n",
              "</table>\n",
              "</div>"
            ],
            "text/plain": [
              "        time  year  month  day\n",
              "0 2023-01-01  2023      1    1\n",
              "1 2023-01-02  2023      1    2\n",
              "2 2023-01-03  2023      1    3\n",
              "3 2023-01-04  2023      1    4\n",
              "4 2023-01-05  2023      1    5"
            ]
          },
          "execution_count": 14,
          "metadata": {},
          "output_type": "execute_result"
        }
      ],
      "source": [
        "df.head()"
      ],
      "id": "agfwCz_0_L6d"
    },
    {
      "cell_type": "markdown",
      "metadata": {
        "id": "uo9P-DX6_L6f"
      },
      "source": [
        "## 10. Create 2D list to dataframe"
      ],
      "id": "uo9P-DX6_L6f"
    },
    {
      "cell_type": "code",
      "execution_count": null,
      "metadata": {
        "id": "RbUDwrQY_L6i",
        "outputId": "38029e8f-643f-4f48-ab00-48cb22e84c13"
      },
      "outputs": [
        {
          "data": {
            "text/html": [
              "<div>\n",
              "<style scoped>\n",
              "    .dataframe tbody tr th:only-of-type {\n",
              "        vertical-align: middle;\n",
              "    }\n",
              "\n",
              "    .dataframe tbody tr th {\n",
              "        vertical-align: top;\n",
              "    }\n",
              "\n",
              "    .dataframe thead th {\n",
              "        text-align: right;\n",
              "    }\n",
              "</style>\n",
              "<table border=\"1\" class=\"dataframe\">\n",
              "  <thead>\n",
              "    <tr style=\"text-align: right;\">\n",
              "      <th></th>\n",
              "      <th>col1</th>\n",
              "      <th>col2</th>\n",
              "      <th>col3</th>\n",
              "    </tr>\n",
              "  </thead>\n",
              "  <tbody>\n",
              "    <tr>\n",
              "      <th>0</th>\n",
              "      <td>1</td>\n",
              "      <td>aaa</td>\n",
              "      <td>22</td>\n",
              "    </tr>\n",
              "    <tr>\n",
              "      <th>1</th>\n",
              "      <td>2</td>\n",
              "      <td>bbb</td>\n",
              "      <td>25</td>\n",
              "    </tr>\n",
              "    <tr>\n",
              "      <th>2</th>\n",
              "      <td>3</td>\n",
              "      <td>ccc</td>\n",
              "      <td>24</td>\n",
              "    </tr>\n",
              "  </tbody>\n",
              "</table>\n",
              "</div>"
            ],
            "text/plain": [
              "   col1 col2  col3\n",
              "0     1  aaa    22\n",
              "1     2  bbb    25\n",
              "2     3  ccc    24"
            ]
          },
          "execution_count": 13,
          "metadata": {},
          "output_type": "execute_result"
        }
      ],
      "source": [
        "list_2d = [[1,\"aaa\",22],[2,\"bbb\",25],[3,\"ccc\",24]]\n",
        "df = pd.DataFrame(list_2d,columns=[\"col1\",\"col2\",\"col3\"])\n",
        "df"
      ],
      "id": "RbUDwrQY_L6i"
    },
    {
      "cell_type": "code",
      "execution_count": null,
      "metadata": {
        "id": "JRhZw4kS_L6j"
      },
      "outputs": [],
      "source": [],
      "id": "JRhZw4kS_L6j"
    },
    {
      "cell_type": "code",
      "execution_count": null,
      "metadata": {
        "id": "JVq1fMQE_L6k"
      },
      "outputs": [],
      "source": [],
      "id": "JVq1fMQE_L6k"
    },
    {
      "cell_type": "code",
      "execution_count": null,
      "metadata": {
        "id": "WesB-jsK_L6k"
      },
      "outputs": [],
      "source": [],
      "id": "WesB-jsK_L6k"
    }
  ],
  "metadata": {
    "kernelspec": {
      "display_name": "Python 3",
      "language": "python",
      "name": "python3"
    },
    "language_info": {
      "codemirror_mode": {
        "name": "ipython",
        "version": 3
      },
      "file_extension": ".py",
      "mimetype": "text/x-python",
      "name": "python",
      "nbconvert_exporter": "python",
      "pygments_lexer": "ipython3",
      "version": "3.8.5"
    },
    "colab": {
      "provenance": []
    }
  },
  "nbformat": 4,
  "nbformat_minor": 5
}